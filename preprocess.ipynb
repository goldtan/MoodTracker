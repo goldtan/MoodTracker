{
 "cells": [
  {
   "cell_type": "code",
   "execution_count": 2,
   "id": "3f3b9cad",
   "metadata": {},
   "outputs": [],
   "source": [
    "import pandas as pd\n",
    "from sklearn.preprocessing import LabelEncoder\n",
    "\n",
    "df_val = pd.read_excel('D:/data/nlp/감성대화/Validation/감성대화말뭉치(최종데이터)_Validation.xlsx')\n",
    "df_train = pd.read_excel('D:/data/nlp/감성대화/Training/감성대화말뭉치(최종데이터)_Training.xlsx')\n",
    "\n",
    "df_val = df_val.drop(['번호','연령','신체질환','성별','사람문장4','시스템응답4'], axis=1)\n",
    "df_train = df_train.drop(['번호','연령','신체질환','성별','사람문장4','시스템응답4'], axis=1)\n",
    "\n",
    "df_train = df_train.fillna('')\n",
    "df_val = df_val.fillna('')\n",
    "\n",
    "df_train['사람'] = df_train['사람문장1'] + ' ' + df_train['사람문장2'] + ' ' + df_train['사람문장3']\n",
    "df_train['시스템'] = df_train['시스템응답1'] + ' ' + df_train['시스템응답2'] + ' ' + df_train['시스템응답3']\n",
    "df_val['사람'] = df_val['사람문장1'] + ' ' + df_val['사람문장2'] + ' ' + df_val['사람문장3']\n",
    "df_val['시스템'] = df_val['시스템응답1'] + ' ' + df_val['시스템응답2'] + ' ' + df_val['시스템응답3']\n",
    "\n",
    "df_train = df_train.drop(['사람문장1','시스템응답1','사람문장2','시스템응답2','사람문장3','시스템응답3'], axis=1)\n",
    "df_val = df_val.drop(['사람문장1','시스템응답1','사람문장2','시스템응답2','사람문장3','시스템응답3'], axis=1)\n",
    "\n",
    "df_train['감정_대분류'] = df_train['감정_대분류'].map(lambda x: x.replace(\" \", \"\"))\n",
    "df_val['감정_대분류'] = df_val['감정_대분류'].map(lambda x: x.replace(\" \", \"\"))"
   ]
  },
  {
   "cell_type": "code",
   "execution_count": 3,
   "id": "3d2880d3",
   "metadata": {},
   "outputs": [
    {
     "name": "stdout",
     "output_type": "stream",
     "text": [
      "['기쁨' '불안' '당황' '슬픔' '분노' '상처']\n",
      "['분노' '슬픔' '불안' '당황' '상처' '기쁨']\n"
     ]
    }
   ],
   "source": [
    "print(df_train['감정_대분류'].unique())\n",
    "print(df_val['감정_대분류'].unique())"
   ]
  },
  {
   "cell_type": "code",
   "execution_count": 4,
   "id": "c55d225a",
   "metadata": {},
   "outputs": [],
   "source": [
    "le = LabelEncoder()\n",
    "le.fit(df_train['감정_대분류'].unique())\n",
    "\n",
    "df_train['label'] = df_train['감정_대분류'].map(lambda x : le.transform([x])[0])\n",
    "df_val['label'] = df_val['감정_대분류'].map(lambda x : le.transform([x])[0])"
   ]
  },
  {
   "cell_type": "code",
   "execution_count": 5,
   "id": "76fa2db9",
   "metadata": {},
   "outputs": [
    {
     "name": "stdout",
     "output_type": "stream",
     "text": [
      "기쁨\n",
      "['신이 난' '안도' '흥분' '기쁨' '만족스러운' '자신하는' '편안한' '감사하는' '신뢰하는' '느긋']\n",
      "불안\n",
      "['스트레스 받는' '취약한' '당혹스러운' '두려운' '회의적인' '걱정스러운' '조심스러운' '불안' '혼란스러운' '초조한']\n",
      "당황\n",
      "['당황' '남의 시선을 의식하는' '죄책감의' '혼란스러운' '한심한' '혐오스러운' '부끄러운' '고립된' '외로운' '열등감']\n",
      "슬픔\n",
      "['우울한' '눈물이 나는' '낙담한' '마비된' '염세적인' '환멸을 느끼는' '비통한' '실망한' '슬픔' '후회되는']\n",
      "분노\n",
      "['구역질 나는' '좌절한' '분노' '안달하는' '노여워하는' '짜증내는' '방어적인' '툴툴대는' '성가신' '악의적인'\n",
      " '질투하는']\n",
      "상처\n",
      "['배신당한' '충격 받은' '상처' '억울한' '버려진' '괴로워하는' '질투하는' '가난한, 불우한' '고립된' '희생된'\n",
      " '조심스러운']\n"
     ]
    }
   ],
   "source": [
    "for i in ['기쁨', '불안', '당황', '슬픔', '분노', '상처']:\n",
    "    print(i)\n",
    "    print(df_train[df_train['감정_대분류'] ==i]['감정_소분류'].unique())"
   ]
  },
  {
   "cell_type": "code",
   "execution_count": 6,
   "id": "15b68db0",
   "metadata": {},
   "outputs": [],
   "source": [
    "le = LabelEncoder()\n",
    "le.fit(df_train['감정_대분류'].unique())\n",
    "\n",
    "df_train['label2'] = df_train['감정_대분류'].map(lambda x : le.transform([x])[0])\n",
    "df_val['label2'] = df_val['감정_대분류'].map(lambda x : le.transform([x])[0])"
   ]
  },
  {
   "cell_type": "code",
   "execution_count": 7,
   "id": "0bf09bda",
   "metadata": {},
   "outputs": [],
   "source": [
    "df_train.to_excel('train.xlsx')\n",
    "df_val.to_excel('validation.xlsx')"
   ]
  },
  {
   "cell_type": "markdown",
   "id": "863afdfc",
   "metadata": {},
   "source": [
    "# 2차 전처리"
   ]
  },
  {
   "cell_type": "code",
   "execution_count": 2,
   "id": "f2470d55",
   "metadata": {},
   "outputs": [],
   "source": [
    "import pandas as pd\n",
    "from sklearn.preprocessing import LabelEncoder\n",
    "\n",
    "df_train = pd.read_excel('train.xlsx', index_col=0)\n",
    "df_val = pd.read_excel('validation.xlsx', index_col=0)"
   ]
  },
  {
   "cell_type": "code",
   "execution_count": 3,
   "id": "0f40380e",
   "metadata": {},
   "outputs": [
    {
     "name": "stdout",
     "output_type": "stream",
     "text": [
      "기쁨\n",
      "['신이 난' '안도' '흥분' '기쁨' '만족스러운' '자신하는' '편안한' '감사하는' '신뢰하는' '느긋']\n",
      "불안\n",
      "['스트레스 받는' '취약한' '당혹스러운' '두려운' '회의적인' '걱정스러운' '조심스러운' '불안' '혼란스러운' '초조한']\n",
      "당황\n",
      "['당황' '남의 시선을 의식하는' '죄책감의' '혼란스러운' '한심한' '혐오스러운' '부끄러운' '고립된' '외로운' '열등감']\n",
      "슬픔\n",
      "['우울한' '눈물이 나는' '낙담한' '마비된' '염세적인' '환멸을 느끼는' '비통한' '실망한' '슬픔' '후회되는']\n",
      "분노\n",
      "['구역질 나는' '좌절한' '분노' '안달하는' '노여워하는' '짜증내는' '방어적인' '툴툴대는' '성가신' '악의적인'\n",
      " '질투하는']\n",
      "상처\n",
      "['배신당한' '충격 받은' '상처' '억울한' '버려진' '괴로워하는' '질투하는' '가난한, 불우한' '고립된' '희생된'\n",
      " '조심스러운']\n"
     ]
    }
   ],
   "source": [
    "for i in ['기쁨', '불안', '당황', '슬픔', '분노', '상처']:\n",
    "    print(i)\n",
    "    print(df_train[df_train['감정_대분류'] ==i]['감정_소분류'].unique())"
   ]
  },
  {
   "cell_type": "code",
   "execution_count": 4,
   "id": "0361bf16",
   "metadata": {},
   "outputs": [
    {
     "data": {
      "text/plain": [
       "58"
      ]
     },
     "execution_count": 4,
     "metadata": {},
     "output_type": "execute_result"
    }
   ],
   "source": [
    "len(df_val['감정_소분류'].unique())"
   ]
  },
  {
   "cell_type": "code",
   "execution_count": 5,
   "id": "7b3e3997",
   "metadata": {},
   "outputs": [],
   "source": [
    "#Confusion Matrix 기반으로 병합\n",
    "\n",
    "df_train['감정_소분류'] = df_train['감정_소분류'].map(lambda x: x.replace('노여워하는','분노'))\n",
    "df_val['감정_소분류'] = df_val['감정_소분류'].map(lambda x: x.replace('노여워하는','분노'))\n",
    "\n",
    "df_train.loc[df_train['감정_소분류'] == '당혹스러운' , '감정_대분류'] = '당황'\n",
    "df_val.loc[df_val['감정_소분류'] == '당혹스러운' , '감정_대분류'] = '당황'\n",
    "df_train['감정_소분류'] = df_train['감정_소분류'].map(lambda x: x.replace('당혹스러운','당황'))\n",
    "df_val['감정_소분류'] = df_val['감정_소분류'].map(lambda x: x.replace('당혹스러운','당황'))\n",
    "\n",
    "df_train['감정_소분류'] = df_train['감정_소분류'].map(lambda x: x.replace('걱정스러운','불안'))\n",
    "df_val['감정_소분류'] = df_val['감정_소분류'].map(lambda x: x.replace('걱정스러운','불안'))\n",
    "\n",
    "df_train['감정_소분류'] = df_train['감정_소분류'].map(lambda x: x.replace('비통한','슬픔'))\n",
    "df_val['감정_소분류'] = df_val['감정_소분류'].map(lambda x: x.replace('비통한','슬픔'))\n",
    "\n",
    "df_train['감정_소분류'] = df_train['감정_소분류'].map(lambda x: x.replace('고립된','슬픔'))\n",
    "df_val['감정_소분류'] = df_val['감정_소분류'].map(lambda x: x.replace('고립된','슬픔'))\n",
    "\n",
    "df_train['감정_소분류'] = df_train['감정_소분류'].map(lambda x: x.replace('신이 난','기쁨'))\n",
    "df_val['감정_소분류'] = df_val['감정_소분류'].map(lambda x: x.replace('신이 난','기쁨'))\n",
    "\n",
    "df_train['감정_소분류'] = df_train['감정_소분류'].map(lambda x: x.replace('흥분','기쁨'))\n",
    "df_val['감정_소분류'] = df_val['감정_소분류'].map(lambda x: x.replace('흥분','기쁨'))\n",
    "\n",
    "df_train.loc[df_train['감정_소분류'] == '열등감' , '감정_대분류'] = '상처'\n",
    "df_val.loc[df_val['감정_소분류'] == '열등감' , '감정_대분류'] = '상처'\n",
    "df_train['감정_소분류'] = df_train['감정_소분류'].map(lambda x: x.replace('열등감','질투하는'))\n",
    "df_val['감정_소분류'] = df_val['감정_소분류'].map(lambda x: x.replace('열등감','질투하는'))\n",
    "\n",
    "df_train['감정_소분류'] = df_train['감정_소분류'].map(lambda x: x.replace('툴툴대는','짜증내는'))\n",
    "df_val['감정_소분류'] = df_val['감정_소분류'].map(lambda x: x.replace('툴툴대는','짜증내는'))\n",
    "\n",
    "df_train['감정_소분류'] = df_train['감정_소분류'].map(lambda x: x.replace('초조한','불안'))\n",
    "df_val['감정_소분류'] = df_val['감정_소분류'].map(lambda x: x.replace('초조한','불안'))\n",
    "\n",
    "df_train['감정_소분류'] = df_train['감정_소분류'].map(lambda x: x.replace('취약한','불안'))\n",
    "df_val['감정_소분류'] = df_val['감정_소분류'].map(lambda x: x.replace('취약한','불안'))"
   ]
  },
  {
   "cell_type": "code",
   "execution_count": 6,
   "id": "0cdcd0f3",
   "metadata": {},
   "outputs": [
    {
     "name": "stdout",
     "output_type": "stream",
     "text": [
      "기쁨\n",
      "['기쁨' '안도' '만족스러운' '자신하는' '편안한' '감사하는' '신뢰하는' '느긋']\n",
      "불안\n",
      "['스트레스 받는' '불안' '두려운' '회의적인' '조심스러운' '혼란스러운']\n",
      "당황\n",
      "['당황' '남의 시선을 의식하는' '죄책감의' '혼란스러운' '한심한' '혐오스러운' '부끄러운' '슬픔' '외로운']\n",
      "슬픔\n",
      "['우울한' '눈물이 나는' '낙담한' '마비된' '염세적인' '환멸을 느끼는' '슬픔' '실망한' '후회되는']\n",
      "분노\n",
      "['구역질 나는' '좌절한' '분노' '안달하는' '짜증내는' '방어적인' '성가신' '악의적인' '질투하는']\n",
      "상처\n",
      "['배신당한' '충격 받은' '상처' '억울한' '버려진' '괴로워하는' '질투하는' '가난한, 불우한' '슬픔' '희생된'\n",
      " '조심스러운']\n"
     ]
    }
   ],
   "source": [
    "for i in ['기쁨', '불안', '당황', '슬픔', '분노', '상처']:\n",
    "    print(i)\n",
    "    print(df_train[df_train['감정_대분류'] ==i]['감정_소분류'].unique())"
   ]
  },
  {
   "cell_type": "code",
   "execution_count": 9,
   "id": "8babfe17",
   "metadata": {},
   "outputs": [
    {
     "data": {
      "text/plain": [
       "47"
      ]
     },
     "execution_count": 9,
     "metadata": {},
     "output_type": "execute_result"
    }
   ],
   "source": [
    "len(df_val['감정_소분류'].unique())"
   ]
  },
  {
   "cell_type": "code",
   "execution_count": 7,
   "id": "cfcaf030",
   "metadata": {},
   "outputs": [],
   "source": [
    "le = LabelEncoder()\n",
    "le.fit(df_train['감정_소분류'].unique())\n",
    "\n",
    "df_train['label'] = df_train['감정_소분류'].map(lambda x : le.transform([x])[0])\n",
    "df_val['label'] = df_val['감정_소분류'].map(lambda x : le.transform([x])[0])"
   ]
  },
  {
   "cell_type": "code",
   "execution_count": 8,
   "id": "a53c06af",
   "metadata": {},
   "outputs": [],
   "source": [
    "le = LabelEncoder()\n",
    "le.fit(df_train['감정_대분류'].unique())\n",
    "\n",
    "df_train['label2'] = df_train['감정_대분류'].map(lambda x : le.transform([x])[0])\n",
    "df_val['label2'] = df_val['감정_대분류'].map(lambda x : le.transform([x])[0])"
   ]
  },
  {
   "cell_type": "code",
   "execution_count": 10,
   "id": "d2395afe",
   "metadata": {},
   "outputs": [],
   "source": [
    "df_train.to_excel('train_2.xlsx')\n",
    "df_val.to_excel('validation_2.xlsx')"
   ]
  },
  {
   "cell_type": "markdown",
   "id": "4ade9b7c",
   "metadata": {},
   "source": [
    "# 3차 전처리"
   ]
  },
  {
   "cell_type": "code",
   "execution_count": 29,
   "id": "a88807cf",
   "metadata": {},
   "outputs": [],
   "source": [
    "df_train = pd.read_excel('train_2.xlsx', index_col=0)\n",
    "df_val = pd.read_excel('validation_2.xlsx', index_col=0)"
   ]
  },
  {
   "cell_type": "code",
   "execution_count": 30,
   "id": "e7e2f28d",
   "metadata": {},
   "outputs": [
    {
     "name": "stdout",
     "output_type": "stream",
     "text": [
      "기쁨\n",
      "['기쁨' '안도' '만족스러운' '자신하는' '편안한' '감사하는' '신뢰하는' '느긋']\n",
      "불안\n",
      "['스트레스 받는' '불안' '두려운' '회의적인' '조심스러운' '혼란스러운']\n",
      "당황\n",
      "['당황' '남의 시선을 의식하는' '죄책감의' '혼란스러운' '한심한' '혐오스러운' '부끄러운' '슬픔' '외로운']\n",
      "슬픔\n",
      "['우울한' '눈물이 나는' '낙담한' '마비된' '염세적인' '환멸을 느끼는' '슬픔' '실망한' '후회되는']\n",
      "분노\n",
      "['구역질 나는' '좌절한' '분노' '안달하는' '짜증내는' '방어적인' '성가신' '악의적인' '질투하는']\n",
      "상처\n",
      "['배신당한' '충격 받은' '상처' '억울한' '버려진' '괴로워하는' '질투하는' '가난한, 불우한' '슬픔' '희생된'\n",
      " '조심스러운']\n"
     ]
    }
   ],
   "source": [
    "for i in ['기쁨', '불안', '당황', '슬픔', '분노', '상처']:\n",
    "    print(i)\n",
    "    print(df_train[df_train['감정_대분류'] ==i]['감정_소분류'].unique())"
   ]
  },
  {
   "cell_type": "code",
   "execution_count": 31,
   "id": "03cd6c4c",
   "metadata": {},
   "outputs": [
    {
     "data": {
      "text/plain": [
       "47"
      ]
     },
     "execution_count": 31,
     "metadata": {},
     "output_type": "execute_result"
    }
   ],
   "source": [
    "len(df_val['감정_소분류'].unique())"
   ]
  },
  {
   "cell_type": "code",
   "execution_count": 32,
   "id": "b0bd72ea",
   "metadata": {},
   "outputs": [],
   "source": [
    "#Confusion Matrix 기반으로 병합\n",
    "#Confusion Matrix 기반으로 병합\n",
    "\n",
    "df_train['감정_소분류'] = df_train['감정_소분류'].map(lambda x: x.replace('낙담한','슬픔'))\n",
    "df_val['감정_소분류'] = df_val['감정_소분류'].map(lambda x: x.replace('낙담한','슬픔'))\n",
    "\n",
    "df_train.loc[df_train['감정_소분류'] == '안달하는' , '감정_대분류'] = '불안'\n",
    "df_val.loc[df_val['감정_소분류'] == '안달하는' , '감정_대분류'] = '불안'\n",
    "df_train['감정_소분류'] = df_train['감정_소분류'].map(lambda x: x.replace('안달하는','불안'))\n",
    "df_val['감정_소분류'] = df_val['감정_소분류'].map(lambda x: x.replace('안달하는','불안'))\n",
    "\n",
    "df_train['감정_소분류'] = df_train['감정_소분류'].map(lambda x: x.replace('염세적인','슬픔'))\n",
    "df_val['감정_소분류'] = df_val['감정_소분류'].map(lambda x: x.replace('염세적인','슬픔'))\n",
    "\n",
    "df_train['감정_소분류'] = df_train['감정_소분류'].map(lambda x: x.replace('회의적인','불안'))\n",
    "df_val['감정_소분류'] = df_val['감정_소분류'].map(lambda x: x.replace('회의적인','불안'))"
   ]
  },
  {
   "cell_type": "code",
   "execution_count": 33,
   "id": "98319f30",
   "metadata": {},
   "outputs": [
    {
     "data": {
      "text/plain": [
       "43"
      ]
     },
     "execution_count": 33,
     "metadata": {},
     "output_type": "execute_result"
    }
   ],
   "source": [
    "len(df_val['감정_소분류'].unique())"
   ]
  },
  {
   "cell_type": "code",
   "execution_count": 34,
   "id": "f7afbc42",
   "metadata": {},
   "outputs": [
    {
     "name": "stdout",
     "output_type": "stream",
     "text": [
      "기쁨\n",
      "['기쁨' '안도' '만족스러운' '자신하는' '편안한' '감사하는' '신뢰하는' '느긋']\n",
      "불안\n",
      "['스트레스 받는' '불안' '두려운' '조심스러운' '혼란스러운']\n",
      "당황\n",
      "['당황' '남의 시선을 의식하는' '죄책감의' '혼란스러운' '한심한' '혐오스러운' '부끄러운' '슬픔' '외로운']\n",
      "슬픔\n",
      "['우울한' '눈물이 나는' '슬픔' '마비된' '환멸을 느끼는' '실망한' '후회되는']\n",
      "분노\n",
      "['구역질 나는' '좌절한' '분노' '짜증내는' '방어적인' '성가신' '악의적인' '질투하는']\n",
      "상처\n",
      "['배신당한' '충격 받은' '상처' '억울한' '버려진' '괴로워하는' '질투하는' '가난한, 불우한' '슬픔' '희생된'\n",
      " '조심스러운']\n"
     ]
    }
   ],
   "source": [
    "for i in ['기쁨', '불안', '당황', '슬픔', '분노', '상처']:\n",
    "    print(i)\n",
    "    print(df_train[df_train['감정_대분류'] ==i]['감정_소분류'].unique())"
   ]
  },
  {
   "cell_type": "code",
   "execution_count": 35,
   "id": "bfc339a3",
   "metadata": {},
   "outputs": [],
   "source": [
    "df_train_happy = df_train[df_train['감정_대분류']=='기쁨']\n",
    "df_train_anxious = df_train[df_train['감정_대분류']=='불안']\n",
    "df_train_embarrassed = df_train[df_train['감정_대분류']=='당황']\n",
    "df_train_sad = df_train[df_train['감정_대분류']=='당황']\n",
    "df_train_angry = df_train[df_train['감정_대분류']=='슬픔']\n",
    "df_train_hurt = df_train[df_train['감정_대분류']=='상처']"
   ]
  },
  {
   "cell_type": "code",
   "execution_count": 36,
   "id": "971c63df",
   "metadata": {},
   "outputs": [],
   "source": [
    "df_val_happy = df_val[df_val['감정_대분류']=='기쁨']\n",
    "df_val_anxious = df_val[df_val['감정_대분류']=='불안']\n",
    "df_val_embarrassed = df_val[df_val['감정_대분류']=='당황']\n",
    "df_val_sad = df_val[df_val['감정_대분류']=='슬픔']\n",
    "df_val_angry = df_val[df_val['감정_대분류']=='당황']\n",
    "df_val_hurt = df_val[df_val['감정_대분류']=='상처']"
   ]
  },
  {
   "cell_type": "code",
   "execution_count": 37,
   "id": "b3ffe427",
   "metadata": {},
   "outputs": [],
   "source": [
    "list_df = [df_train_happy, df_train_anxious, df_train_embarrassed, df_train_sad, df_train_angry, df_train_hurt,\n",
    "             df_val_happy, df_val_anxious, df_val_embarrassed, df_val_sad, df_val_angry, df_val_hurt]"
   ]
  },
  {
   "cell_type": "code",
   "execution_count": 38,
   "id": "9fbde58d",
   "metadata": {},
   "outputs": [
    {
     "name": "stderr",
     "output_type": "stream",
     "text": [
      "C:\\Users\\KIMMIN~1\\AppData\\Local\\Temp/ipykernel_25464/3751002010.py:4: SettingWithCopyWarning: \n",
      "A value is trying to be set on a copy of a slice from a DataFrame.\n",
      "Try using .loc[row_indexer,col_indexer] = value instead\n",
      "\n",
      "See the caveats in the documentation: https://pandas.pydata.org/pandas-docs/stable/user_guide/indexing.html#returning-a-view-versus-a-copy\n",
      "  df['label'] = df['감정_소분류'].map(lambda x : le.transform([x])[0])\n"
     ]
    }
   ],
   "source": [
    "for df in list_df:\n",
    "    le = LabelEncoder()\n",
    "    le.fit(df['감정_소분류'].unique())\n",
    "    df['label'] = df['감정_소분류'].map(lambda x : le.transform([x])[0])"
   ]
  },
  {
   "cell_type": "code",
   "execution_count": 39,
   "id": "be9a2f13",
   "metadata": {},
   "outputs": [
    {
     "data": {
      "text/plain": [
       "array([1, 5, 3, 6, 7, 0, 4, 2])"
      ]
     },
     "execution_count": 39,
     "metadata": {},
     "output_type": "execute_result"
    }
   ],
   "source": [
    "df_train_happy['label'].unique()"
   ]
  },
  {
   "cell_type": "code",
   "execution_count": 40,
   "id": "d44a9bd4",
   "metadata": {},
   "outputs": [
    {
     "data": {
      "text/plain": [
       "array(['기쁨', '안도', '만족스러운', '자신하는', '편안한', '감사하는', '신뢰하는', '느긋'],\n",
       "      dtype=object)"
      ]
     },
     "execution_count": 40,
     "metadata": {},
     "output_type": "execute_result"
    }
   ],
   "source": [
    "df_train_happy['감정_소분류'].unique()"
   ]
  },
  {
   "cell_type": "code",
   "execution_count": 41,
   "id": "a4d3ad5c",
   "metadata": {},
   "outputs": [],
   "source": [
    "df_train_happy.to_excel('train_happy.xlsx')\n",
    "df_train_anxious.to_excel('train_anxious.xlsx')\n",
    "df_train_embarrassed.to_excel('train_embarrassed.xlsx')\n",
    "df_train_sad.to_excel('train_sad.xlsx')\n",
    "df_train_angry.to_excel('train_angry.xlsx')\n",
    "df_train_hurt.to_excel('train_hurt.xlsx')\n",
    "\n",
    "df_val_happy.to_excel('val_happy.xlsx')\n",
    "df_val_anxious.to_excel('val_anxious.xlsx')\n",
    "df_val_embarrassed.to_excel('val_embarrassed.xlsx')\n",
    "df_val_sad.to_excel('val_sad.xlsx')\n",
    "df_val_angry.to_excel('val_angry.xlsx')\n",
    "df_val_hurt.to_excel('val_hurt.xlsx')"
   ]
  },
  {
   "cell_type": "code",
   "execution_count": 42,
   "id": "72f40beb",
   "metadata": {},
   "outputs": [
    {
     "name": "stdout",
     "output_type": "stream",
     "text": [
      "(6731, 7)\n",
      "(7240, 7)\n",
      "(6494, 7)\n",
      "(6494, 7)\n",
      "(6915, 7)\n",
      "(7194, 7)\n",
      "(841, 7)\n",
      "(913, 7)\n",
      "(843, 7)\n",
      "(861, 7)\n",
      "(843, 7)\n",
      "(892, 7)\n"
     ]
    }
   ],
   "source": [
    "for df in list_df:\n",
    "    print(df.shape)"
   ]
  }
 ],
 "metadata": {
  "kernelspec": {
   "display_name": "Python 3 (ipykernel)",
   "language": "python",
   "name": "python3"
  },
  "language_info": {
   "codemirror_mode": {
    "name": "ipython",
    "version": 3
   },
   "file_extension": ".py",
   "mimetype": "text/x-python",
   "name": "python",
   "nbconvert_exporter": "python",
   "pygments_lexer": "ipython3",
   "version": "3.8.12"
  }
 },
 "nbformat": 4,
 "nbformat_minor": 5
}
